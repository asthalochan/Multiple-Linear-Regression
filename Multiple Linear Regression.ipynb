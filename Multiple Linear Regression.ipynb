{
 "cells": [
  {
   "cell_type": "code",
   "execution_count": 1,
   "id": "e766f8b3",
   "metadata": {},
   "outputs": [],
   "source": [
    "import pandas as pd\n",
    "import numpy as np"
   ]
  },
  {
   "cell_type": "code",
   "execution_count": 2,
   "id": "1c889fde",
   "metadata": {},
   "outputs": [],
   "source": [
    "df=pd.read_table(\"hospital_infct.txt\")\n",
    "#path"
   ]
  },
  {
   "cell_type": "code",
   "execution_count": 3,
   "id": "8b3b85ad",
   "metadata": {},
   "outputs": [
    {
     "data": {
      "text/html": [
       "<div>\n",
       "<style scoped>\n",
       "    .dataframe tbody tr th:only-of-type {\n",
       "        vertical-align: middle;\n",
       "    }\n",
       "\n",
       "    .dataframe tbody tr th {\n",
       "        vertical-align: top;\n",
       "    }\n",
       "\n",
       "    .dataframe thead th {\n",
       "        text-align: right;\n",
       "    }\n",
       "</style>\n",
       "<table border=\"1\" class=\"dataframe\">\n",
       "  <thead>\n",
       "    <tr style=\"text-align: right;\">\n",
       "      <th></th>\n",
       "      <th>ID</th>\n",
       "      <th>Stay</th>\n",
       "      <th>Age</th>\n",
       "      <th>InfctRsk</th>\n",
       "      <th>Culture</th>\n",
       "      <th>Xray</th>\n",
       "      <th>Beds</th>\n",
       "      <th>MedSchool</th>\n",
       "      <th>Region</th>\n",
       "      <th>Census</th>\n",
       "      <th>Nurses</th>\n",
       "      <th>Facilities</th>\n",
       "    </tr>\n",
       "  </thead>\n",
       "  <tbody>\n",
       "    <tr>\n",
       "      <th>0</th>\n",
       "      <td>1</td>\n",
       "      <td>7.13</td>\n",
       "      <td>55.7</td>\n",
       "      <td>4.1</td>\n",
       "      <td>9.0</td>\n",
       "      <td>39.6</td>\n",
       "      <td>279</td>\n",
       "      <td>2</td>\n",
       "      <td>4</td>\n",
       "      <td>207</td>\n",
       "      <td>241</td>\n",
       "      <td>60.0</td>\n",
       "    </tr>\n",
       "    <tr>\n",
       "      <th>1</th>\n",
       "      <td>2</td>\n",
       "      <td>8.82</td>\n",
       "      <td>58.2</td>\n",
       "      <td>1.6</td>\n",
       "      <td>3.8</td>\n",
       "      <td>51.7</td>\n",
       "      <td>80</td>\n",
       "      <td>2</td>\n",
       "      <td>2</td>\n",
       "      <td>51</td>\n",
       "      <td>52</td>\n",
       "      <td>40.0</td>\n",
       "    </tr>\n",
       "    <tr>\n",
       "      <th>2</th>\n",
       "      <td>3</td>\n",
       "      <td>8.34</td>\n",
       "      <td>56.9</td>\n",
       "      <td>2.7</td>\n",
       "      <td>8.1</td>\n",
       "      <td>74.0</td>\n",
       "      <td>107</td>\n",
       "      <td>2</td>\n",
       "      <td>3</td>\n",
       "      <td>82</td>\n",
       "      <td>54</td>\n",
       "      <td>20.0</td>\n",
       "    </tr>\n",
       "    <tr>\n",
       "      <th>3</th>\n",
       "      <td>4</td>\n",
       "      <td>8.95</td>\n",
       "      <td>53.7</td>\n",
       "      <td>5.6</td>\n",
       "      <td>18.9</td>\n",
       "      <td>122.8</td>\n",
       "      <td>147</td>\n",
       "      <td>2</td>\n",
       "      <td>4</td>\n",
       "      <td>53</td>\n",
       "      <td>148</td>\n",
       "      <td>40.0</td>\n",
       "    </tr>\n",
       "    <tr>\n",
       "      <th>4</th>\n",
       "      <td>5</td>\n",
       "      <td>11.20</td>\n",
       "      <td>56.5</td>\n",
       "      <td>5.7</td>\n",
       "      <td>34.5</td>\n",
       "      <td>88.9</td>\n",
       "      <td>180</td>\n",
       "      <td>2</td>\n",
       "      <td>1</td>\n",
       "      <td>134</td>\n",
       "      <td>151</td>\n",
       "      <td>40.0</td>\n",
       "    </tr>\n",
       "  </tbody>\n",
       "</table>\n",
       "</div>"
      ],
      "text/plain": [
       "   ID   Stay   Age  InfctRsk  Culture   Xray  Beds  MedSchool  Region  Census  \\\n",
       "0   1   7.13  55.7       4.1      9.0   39.6   279          2       4     207   \n",
       "1   2   8.82  58.2       1.6      3.8   51.7    80          2       2      51   \n",
       "2   3   8.34  56.9       2.7      8.1   74.0   107          2       3      82   \n",
       "3   4   8.95  53.7       5.6     18.9  122.8   147          2       4      53   \n",
       "4   5  11.20  56.5       5.7     34.5   88.9   180          2       1     134   \n",
       "\n",
       "   Nurses  Facilities  \n",
       "0     241        60.0  \n",
       "1      52        40.0  \n",
       "2      54        20.0  \n",
       "3     148        40.0  \n",
       "4     151        40.0  "
      ]
     },
     "execution_count": 3,
     "metadata": {},
     "output_type": "execute_result"
    }
   ],
   "source": [
    "df.head()"
   ]
  },
  {
   "cell_type": "code",
   "execution_count": 4,
   "id": "8ae38550",
   "metadata": {},
   "outputs": [
    {
     "data": {
      "text/plain": [
       "Index(['ID', 'Stay', 'Age', 'InfctRsk', 'Culture', 'Xray', 'Beds', 'MedSchool',\n",
       "       'Region', 'Census', 'Nurses', 'Facilities'],\n",
       "      dtype='object')"
      ]
     },
     "execution_count": 4,
     "metadata": {},
     "output_type": "execute_result"
    }
   ],
   "source": [
    "df.columns"
   ]
  },
  {
   "cell_type": "code",
   "execution_count": 5,
   "id": "d5e383ff",
   "metadata": {},
   "outputs": [
    {
     "data": {
      "text/html": [
       "<div>\n",
       "<style scoped>\n",
       "    .dataframe tbody tr th:only-of-type {\n",
       "        vertical-align: middle;\n",
       "    }\n",
       "\n",
       "    .dataframe tbody tr th {\n",
       "        vertical-align: top;\n",
       "    }\n",
       "\n",
       "    .dataframe thead th {\n",
       "        text-align: right;\n",
       "    }\n",
       "</style>\n",
       "<table border=\"1\" class=\"dataframe\">\n",
       "  <thead>\n",
       "    <tr style=\"text-align: right;\">\n",
       "      <th></th>\n",
       "      <th>ID</th>\n",
       "      <th>Stay</th>\n",
       "      <th>Age</th>\n",
       "      <th>Culture</th>\n",
       "      <th>Xray</th>\n",
       "      <th>Beds</th>\n",
       "      <th>MedSchool</th>\n",
       "      <th>Region</th>\n",
       "      <th>Census</th>\n",
       "      <th>Nurses</th>\n",
       "      <th>Facilities</th>\n",
       "    </tr>\n",
       "  </thead>\n",
       "  <tbody>\n",
       "    <tr>\n",
       "      <th>0</th>\n",
       "      <td>1</td>\n",
       "      <td>7.13</td>\n",
       "      <td>55.7</td>\n",
       "      <td>9.0</td>\n",
       "      <td>39.6</td>\n",
       "      <td>279</td>\n",
       "      <td>2</td>\n",
       "      <td>4</td>\n",
       "      <td>207</td>\n",
       "      <td>241</td>\n",
       "      <td>60.0</td>\n",
       "    </tr>\n",
       "    <tr>\n",
       "      <th>1</th>\n",
       "      <td>2</td>\n",
       "      <td>8.82</td>\n",
       "      <td>58.2</td>\n",
       "      <td>3.8</td>\n",
       "      <td>51.7</td>\n",
       "      <td>80</td>\n",
       "      <td>2</td>\n",
       "      <td>2</td>\n",
       "      <td>51</td>\n",
       "      <td>52</td>\n",
       "      <td>40.0</td>\n",
       "    </tr>\n",
       "    <tr>\n",
       "      <th>2</th>\n",
       "      <td>3</td>\n",
       "      <td>8.34</td>\n",
       "      <td>56.9</td>\n",
       "      <td>8.1</td>\n",
       "      <td>74.0</td>\n",
       "      <td>107</td>\n",
       "      <td>2</td>\n",
       "      <td>3</td>\n",
       "      <td>82</td>\n",
       "      <td>54</td>\n",
       "      <td>20.0</td>\n",
       "    </tr>\n",
       "    <tr>\n",
       "      <th>3</th>\n",
       "      <td>4</td>\n",
       "      <td>8.95</td>\n",
       "      <td>53.7</td>\n",
       "      <td>18.9</td>\n",
       "      <td>122.8</td>\n",
       "      <td>147</td>\n",
       "      <td>2</td>\n",
       "      <td>4</td>\n",
       "      <td>53</td>\n",
       "      <td>148</td>\n",
       "      <td>40.0</td>\n",
       "    </tr>\n",
       "    <tr>\n",
       "      <th>4</th>\n",
       "      <td>5</td>\n",
       "      <td>11.20</td>\n",
       "      <td>56.5</td>\n",
       "      <td>34.5</td>\n",
       "      <td>88.9</td>\n",
       "      <td>180</td>\n",
       "      <td>2</td>\n",
       "      <td>1</td>\n",
       "      <td>134</td>\n",
       "      <td>151</td>\n",
       "      <td>40.0</td>\n",
       "    </tr>\n",
       "    <tr>\n",
       "      <th>...</th>\n",
       "      <td>...</td>\n",
       "      <td>...</td>\n",
       "      <td>...</td>\n",
       "      <td>...</td>\n",
       "      <td>...</td>\n",
       "      <td>...</td>\n",
       "      <td>...</td>\n",
       "      <td>...</td>\n",
       "      <td>...</td>\n",
       "      <td>...</td>\n",
       "      <td>...</td>\n",
       "    </tr>\n",
       "    <tr>\n",
       "      <th>108</th>\n",
       "      <td>109</td>\n",
       "      <td>11.80</td>\n",
       "      <td>53.8</td>\n",
       "      <td>9.1</td>\n",
       "      <td>116.9</td>\n",
       "      <td>571</td>\n",
       "      <td>1</td>\n",
       "      <td>2</td>\n",
       "      <td>441</td>\n",
       "      <td>469</td>\n",
       "      <td>62.9</td>\n",
       "    </tr>\n",
       "    <tr>\n",
       "      <th>109</th>\n",
       "      <td>110</td>\n",
       "      <td>9.50</td>\n",
       "      <td>49.3</td>\n",
       "      <td>42.0</td>\n",
       "      <td>70.9</td>\n",
       "      <td>98</td>\n",
       "      <td>2</td>\n",
       "      <td>3</td>\n",
       "      <td>68</td>\n",
       "      <td>46</td>\n",
       "      <td>22.9</td>\n",
       "    </tr>\n",
       "    <tr>\n",
       "      <th>110</th>\n",
       "      <td>111</td>\n",
       "      <td>7.70</td>\n",
       "      <td>56.9</td>\n",
       "      <td>12.2</td>\n",
       "      <td>67.9</td>\n",
       "      <td>129</td>\n",
       "      <td>2</td>\n",
       "      <td>4</td>\n",
       "      <td>85</td>\n",
       "      <td>136</td>\n",
       "      <td>62.9</td>\n",
       "    </tr>\n",
       "    <tr>\n",
       "      <th>111</th>\n",
       "      <td>112</td>\n",
       "      <td>17.94</td>\n",
       "      <td>56.2</td>\n",
       "      <td>26.4</td>\n",
       "      <td>91.8</td>\n",
       "      <td>835</td>\n",
       "      <td>1</td>\n",
       "      <td>1</td>\n",
       "      <td>791</td>\n",
       "      <td>407</td>\n",
       "      <td>62.9</td>\n",
       "    </tr>\n",
       "    <tr>\n",
       "      <th>112</th>\n",
       "      <td>113</td>\n",
       "      <td>9.41</td>\n",
       "      <td>59.5</td>\n",
       "      <td>20.6</td>\n",
       "      <td>91.7</td>\n",
       "      <td>29</td>\n",
       "      <td>2</td>\n",
       "      <td>3</td>\n",
       "      <td>20</td>\n",
       "      <td>22</td>\n",
       "      <td>22.9</td>\n",
       "    </tr>\n",
       "  </tbody>\n",
       "</table>\n",
       "<p>113 rows × 11 columns</p>\n",
       "</div>"
      ],
      "text/plain": [
       "      ID   Stay   Age  Culture   Xray  Beds  MedSchool  Region  Census  \\\n",
       "0      1   7.13  55.7      9.0   39.6   279          2       4     207   \n",
       "1      2   8.82  58.2      3.8   51.7    80          2       2      51   \n",
       "2      3   8.34  56.9      8.1   74.0   107          2       3      82   \n",
       "3      4   8.95  53.7     18.9  122.8   147          2       4      53   \n",
       "4      5  11.20  56.5     34.5   88.9   180          2       1     134   \n",
       "..   ...    ...   ...      ...    ...   ...        ...     ...     ...   \n",
       "108  109  11.80  53.8      9.1  116.9   571          1       2     441   \n",
       "109  110   9.50  49.3     42.0   70.9    98          2       3      68   \n",
       "110  111   7.70  56.9     12.2   67.9   129          2       4      85   \n",
       "111  112  17.94  56.2     26.4   91.8   835          1       1     791   \n",
       "112  113   9.41  59.5     20.6   91.7    29          2       3      20   \n",
       "\n",
       "     Nurses  Facilities  \n",
       "0       241        60.0  \n",
       "1        52        40.0  \n",
       "2        54        20.0  \n",
       "3       148        40.0  \n",
       "4       151        40.0  \n",
       "..      ...         ...  \n",
       "108     469        62.9  \n",
       "109      46        22.9  \n",
       "110     136        62.9  \n",
       "111     407        62.9  \n",
       "112      22        22.9  \n",
       "\n",
       "[113 rows x 11 columns]"
      ]
     },
     "execution_count": 5,
     "metadata": {},
     "output_type": "execute_result"
    }
   ],
   "source": [
    "x_data=df.drop([\"InfctRsk\"],axis=1) #except for target the otner columns is our x data\n",
    "x_data"
   ]
  },
  {
   "cell_type": "code",
   "execution_count": 6,
   "id": "77f59a50",
   "metadata": {},
   "outputs": [
    {
     "data": {
      "text/plain": [
       "array([4.1, 1.6, 2.7, 5.6, 5.7, 5.1, 4.6, 5.4, 4.3, 6.3, 4.9, 4.3, 7.7,\n",
       "       3.7, 4.2, 5.5, 4.5, 6.4, 4.2, 4.1, 4.2, 4.8, 5. , 4.8, 4. , 3.9,\n",
       "       4.5, 3.2, 4.4, 4.9, 5. , 5.2, 5.3, 6.1, 6.3, 5. , 2.8, 4.6, 4.1,\n",
       "       1.3, 3.7, 4.7, 3. , 5.6, 5.5, 4.6, 6.5, 5.5, 1.8, 4.2, 5.6, 4.3,\n",
       "       7.6, 7.8, 3.1, 3.9, 3.7, 4.3, 3.9, 4.5, 3.4, 5.7, 5.4, 4.4, 5. ,\n",
       "       4.3, 4.4, 3.7, 4.5, 3.5, 4.2, 2. , 5.2, 4.5, 3.4, 4.5, 2.9, 4.9,\n",
       "       4.4, 5.1, 2.9, 3.5, 5.5, 4.7, 1.7, 4.1, 2.9, 4.3, 4.8, 5.8, 2.9,\n",
       "       2. , 1.3, 5.3, 5.3, 2.5, 3.8, 4.8, 2.3, 6.2, 2.6, 4.3, 2.7, 6.6,\n",
       "       4.5, 2.9, 1.4, 2.1, 5.7, 5.8, 4.4, 5.9, 3.1])"
      ]
     },
     "execution_count": 6,
     "metadata": {},
     "output_type": "execute_result"
    }
   ],
   "source": [
    "y = df.InfctRsk.values #values convert into numpy array\n",
    "y"
   ]
  },
  {
   "cell_type": "code",
   "execution_count": 23,
   "id": "82205b57",
   "metadata": {},
   "outputs": [],
   "source": [
    "# first of all we have to normalize the data\n",
    "# x_normalized = (x - x min)/(x max -x min)\n",
    "x = (x_data - np.min(x_data) / np.max(x_data) - np.min(x_data))\n",
    "x = x.values\n"
   ]
  },
  {
   "cell_type": "code",
   "execution_count": 24,
   "id": "cb181de1",
   "metadata": {},
   "outputs": [],
   "source": [
    "from sklearn.model_selection import train_test_split\n",
    "x_train, x_test ,y_train,y_test = train_test_split(x,y,test_size = 0.2,random_state = 53)"
   ]
  },
  {
   "cell_type": "code",
   "execution_count": 25,
   "id": "851c05c7",
   "metadata": {},
   "outputs": [
    {
     "data": {
      "text/plain": [
       "array([[ 2.79911504e+01,  4.60746421e+00,  1.51112291e+01,\n",
       "         1.69735537e+01,  5.62033708e+01,  2.18965269e+02,\n",
       "         5.00000000e-01, -2.50000000e-01,  1.96974716e+02,\n",
       "         1.74978659e+02,  3.13287500e+01],\n",
       "       [ 5.49911504e+01,  4.10746421e+00,  1.71112291e+01,\n",
       "         6.07355372e+00,  3.40033708e+01,  2.51965269e+02,\n",
       "         5.00000000e-01, -2.50000000e-01,  1.96974716e+02,\n",
       "         1.84978659e+02,  4.56287500e+01],\n",
       "       [ 6.59911504e+01,  2.97746421e+00,  1.01112291e+01,\n",
       "         6.67355372e+00,  5.31033708e+01,  2.35965269e+02,\n",
       "         5.00000000e-01,  7.50000000e-01,  1.70974716e+02,\n",
       "         1.87978659e+02,  4.28287500e+01],\n",
       "       [ 8.09911504e+01,  8.97464213e-01,  1.01112291e+01,\n",
       "         4.57355372e+00,  5.24033708e+01,  1.65965269e+02,\n",
       "         5.00000000e-01,  7.50000000e-01,  1.18974716e+02,\n",
       "         1.01978659e+02,  3.99287500e+01],\n",
       "       [ 9.91150442e-01,  1.77746421e+00,  1.88112291e+01,\n",
       "         2.17355372e+00,  1.18033708e+01,  5.09652695e+01,\n",
       "         5.00000000e-01,  7.50000000e-01,  3.09747155e+01,\n",
       "         3.79786585e+01,  3.42287500e+01],\n",
       "       [ 5.19911504e+01,  4.36746421e+00,  2.17112291e+01,\n",
       "         1.49735537e+01,  5.80033708e+01,  5.05965269e+02,\n",
       "         5.00000000e-01,  1.75000000e+00,  3.09974716e+02,\n",
       "         2.58978659e+02,  4.56287500e+01],\n",
       "       [ 1.89911504e+01,  2.30746421e+00,  1.44112291e+01,\n",
       "         1.42735537e+01,  4.10033708e+01,  8.03965269e+02,\n",
       "         5.00000000e-01,  1.75000000e+00,  5.26974716e+02,\n",
       "         5.04978659e+02,  7.13287500e+01],\n",
       "       [ 1.11991150e+02,  2.36746421e+00,  2.01112291e+01,\n",
       "         1.89735537e+01,  5.18033708e+01, -3.47305389e-02,\n",
       "         5.00000000e-01,  1.75000000e+00, -2.52844501e-02,\n",
       "         7.97865854e+00,  1.71287500e+01],\n",
       "       [ 5.69911504e+01,  6.07464213e-01,  7.71122914e+00,\n",
       "         1.47735537e+01,  2.58033708e+01,  2.88965269e+02,\n",
       "         5.00000000e-01,  2.75000000e+00,  2.44974716e+02,\n",
       "         2.99978659e+02,  4.56287500e+01],\n",
       "       [ 2.99115044e+00,  1.90746421e+00,  1.43112291e+01,\n",
       "         1.72735537e+01,  8.29033708e+01,  1.17965269e+02,\n",
       "         5.00000000e-01,  2.75000000e+00,  3.29747155e+01,\n",
       "         1.33978659e+02,  3.42287500e+01],\n",
       "       [ 9.69911504e+01,  4.96746421e+00,  1.34112291e+01,\n",
       "         9.17355372e+00,  5.70033708e+01,  2.68965269e+02,\n",
       "         5.00000000e-01, -2.50000000e-01,  2.16974716e+02,\n",
       "         1.00978659e+02,  3.99287500e+01],\n",
       "       [ 7.79911504e+01,  1.83746421e+00,  1.64112291e+01,\n",
       "         1.24735537e+01,  3.69033708e+01,  2.07965269e+02,\n",
       "         5.00000000e-01,  7.50000000e-01,  1.44974716e+02,\n",
       "         1.67978659e+02,  4.28287500e+01],\n",
       "       [ 9.39911504e+01,  2.72746421e+00,  1.08112291e+01,\n",
       "         1.40735537e+01,  4.98033708e+01,  1.24965269e+02,\n",
       "         5.00000000e-01,  7.50000000e-01,  1.02974716e+02,\n",
       "         1.33978659e+02,  1.99287500e+01],\n",
       "       [ 7.39911504e+01,  1.40746421e+00, -5.88770865e-01,\n",
       "         1.12735537e+01,  4.51033708e+01,  2.05965269e+02,\n",
       "         5.00000000e-01,  7.50000000e-01,  1.22974716e+02,\n",
       "         1.09978659e+02,  4.28287500e+01],\n",
       "       [ 7.09911504e+01,  3.74642127e-02,  1.26112291e+01,\n",
       "         1.06735537e+01,  1.65033708e+01,  5.79652695e+01,\n",
       "         5.00000000e-01,  1.75000000e+00,  3.19747155e+01,\n",
       "         4.29786585e+01,  2.28287500e+01],\n",
       "       [ 5.29911504e+01,  5.02746421e+00,  4.31122914e+00,\n",
       "         5.07735537e+01,  6.54033708e+01,  1.27965269e+02,\n",
       "         5.00000000e-01,  7.50000000e-01,  9.49747155e+01,\n",
       "         6.19786585e+01,  2.56287500e+01],\n",
       "       [ 4.89911504e+01,  1.83746421e+00,  1.21112291e+01,\n",
       "         8.47355372e+00,  4.70033708e+01,  2.75965269e+02,\n",
       "         5.00000000e-01,  1.75000000e+00,  2.17974716e+02,\n",
       "         1.82978659e+02,  4.56287500e+01],\n",
       "       [ 1.09991150e+02,  6.57464213e-01,  1.75112291e+01,\n",
       "         1.05735537e+01,  2.80033708e+01,  9.99652695e+01,\n",
       "         5.00000000e-01,  2.75000000e+00,  6.49747155e+01,\n",
       "         1.21978659e+02,  5.71287500e+01],\n",
       "       [ 3.19911504e+01,  4.72746421e+00,  1.47112291e+01,\n",
       "         1.56735537e+01,  1.61033708e+01,  1.66965269e+02,\n",
       "         5.00000000e-01, -2.50000000e-01,  1.43974716e+02,\n",
       "         1.50978659e+02,  2.85287500e+01],\n",
       "       [ 7.99115044e+00,  1.62746421e+00,  8.81122914e+00,\n",
       "         2.27735537e+01,  5.09033708e+01,  1.52965269e+02,\n",
       "         5.00000000e-01,  1.75000000e+00,  1.09974716e+02,\n",
       "         1.03978659e+02,  3.42287500e+01],\n",
       "       [ 3.99115044e+00,  4.15746421e+00,  1.71112291e+01,\n",
       "         3.28735537e+01,  4.90033708e+01,  1.50965269e+02,\n",
       "         5.00000000e-01, -2.50000000e-01,  1.13974716e+02,\n",
       "         1.36978659e+02,  3.42287500e+01],\n",
       "       [ 6.69911504e+01,  1.53746421e+00,  1.56112291e+01,\n",
       "         5.77355372e+00,  5.60033708e+01,  2.74965269e+02,\n",
       "         5.00000000e-01,  1.75000000e+00,  2.27974716e+02,\n",
       "         2.03978659e+02,  4.28287500e+01],\n",
       "       [ 1.04991150e+02,  3.75746421e+00,  2.45112291e+01,\n",
       "        -2.64462810e-02,  1.75033708e+01,  1.00965269e+02,\n",
       "         5.00000000e-01,  1.75000000e+00,  4.89747155e+01,\n",
       "         4.79786585e+01,  1.71287500e+01]])"
      ]
     },
     "execution_count": 25,
     "metadata": {},
     "output_type": "execute_result"
    }
   ],
   "source": [
    "x_test"
   ]
  },
  {
   "cell_type": "code",
   "execution_count": 26,
   "id": "f3a5f6a2",
   "metadata": {},
   "outputs": [
    {
     "data": {
      "text/plain": [
       "array([1., 1., 1., 1., 1., 1., 1., 1., 1., 1., 1., 1., 1., 1., 1., 1., 1.,\n",
       "       1., 1., 1., 1., 1., 1., 1., 1., 1., 1., 1., 1., 1., 1., 1., 1., 1.,\n",
       "       1., 1., 1., 1., 1., 1., 1., 1., 1., 1., 1., 1., 1., 1., 1., 1., 1.,\n",
       "       1., 1., 1., 1., 1., 1., 1., 1., 1., 1., 1., 1., 1., 1., 1., 1., 1.,\n",
       "       1., 1., 1., 1., 1., 1., 1., 1., 1., 1., 1., 1., 1., 1., 1., 1., 1.,\n",
       "       1., 1., 1., 1., 1.])"
      ]
     },
     "execution_count": 26,
     "metadata": {},
     "output_type": "execute_result"
    }
   ],
   "source": [
    "#bind one col into the traninig set.......\n",
    "b = np.ones(len(x_train)) #make all values as 1\n",
    "b"
   ]
  },
  {
   "cell_type": "code",
   "execution_count": 27,
   "id": "4be49953",
   "metadata": {},
   "outputs": [
    {
     "data": {
      "text/plain": [
       "array([[  1.        ,  49.99115044,   4.43746421, ..., 186.97471555,\n",
       "        236.97865854,  45.62875   ],\n",
       "       [  1.        , 106.99115044,   0.97746421, ...,  23.97471555,\n",
       "         17.97865854,  17.12875   ],\n",
       "       [  1.        ,  29.99115044,   3.98746421, ..., 249.97471555,\n",
       "        320.97865854,  51.32875   ],\n",
       "       ...,\n",
       "       [  1.        ,  36.99115044,   0.79746421, ...,  29.97471555,\n",
       "         30.97865854,  28.52875   ],\n",
       "       [  1.        ,  28.99115044,   2.84746421, ...,  92.97471555,\n",
       "         91.97865854,  31.32875   ],\n",
       "       [  1.        ,  24.99115044,   1.23746421, ..., 392.97471555,\n",
       "        421.97865854,  51.32875   ]])"
      ]
     },
     "execution_count": 27,
     "metadata": {},
     "output_type": "execute_result"
    }
   ],
   "source": [
    "x_train = np.column_stack((b,x_train)) #bind it...\n",
    "x_train"
   ]
  },
  {
   "cell_type": "code",
   "execution_count": 28,
   "id": "2e4576fd",
   "metadata": {},
   "outputs": [],
   "source": [
    "## beta = ((X(trans) X)(inv))  (X(trans) Y)"
   ]
  },
  {
   "cell_type": "code",
   "execution_count": 29,
   "id": "69ddc261",
   "metadata": {},
   "outputs": [],
   "source": [
    "temp1 = np.dot(x_train.T,x_train) #(x(transpose)) * x)\n",
    "temp2 = np.dot(x_train.T,y_train) #(x(transpose)) * y)"
   ]
  },
  {
   "cell_type": "code",
   "execution_count": 30,
   "id": "0801c433",
   "metadata": {},
   "outputs": [],
   "source": [
    "#now calculate inverse of temp1\n",
    "inv_temp1 =np.linalg.pinv(temp1)"
   ]
  },
  {
   "cell_type": "code",
   "execution_count": 31,
   "id": "b845d4c8",
   "metadata": {},
   "outputs": [],
   "source": [
    "beta =np.dot(inv_temp1,temp2)\n"
   ]
  },
  {
   "cell_type": "code",
   "execution_count": 32,
   "id": "7458013d",
   "metadata": {},
   "outputs": [
    {
     "data": {
      "text/plain": [
       "(23, 11)"
      ]
     },
     "execution_count": 32,
     "metadata": {},
     "output_type": "execute_result"
    }
   ],
   "source": [
    "#bind one col into test set\n",
    "c = np.ones(len(x_test)) \n",
    "x_test.shape"
   ]
  },
  {
   "cell_type": "code",
   "execution_count": 33,
   "id": "704fd316",
   "metadata": {},
   "outputs": [
    {
     "name": "stdout",
     "output_type": "stream",
     "text": [
      "shape of x_test=  {(23, 12)}\n",
      "shape of beta = {(12,)}\n"
     ]
    }
   ],
   "source": [
    "x_test =np.column_stack((c,x_test)) #bind it\n",
    "print(\"shape of x_test= \",{x_test.shape})\n",
    "print(\"shape of beta =\", {beta.shape})"
   ]
  },
  {
   "cell_type": "code",
   "execution_count": 34,
   "id": "e1c457ce",
   "metadata": {},
   "outputs": [
    {
     "data": {
      "text/plain": [
       "array([4.77605483, 4.1673857 , 4.21610898, 3.53970757, 3.38506754,\n",
       "       4.92293814, 5.10925249, 4.2308469 , 4.88326891, 5.22928133,\n",
       "       4.21647878, 4.14719766, 3.83090585, 3.6134189 , 3.12772477,\n",
       "       6.14431717, 4.53742929, 4.8132291 , 4.14422063, 4.86076107,\n",
       "       5.40343761, 4.47010635, 3.0890605 ])"
      ]
     },
     "execution_count": 34,
     "metadata": {},
     "output_type": "execute_result"
    }
   ],
   "source": [
    "#predict result\n",
    "predict = np.dot(x_test,beta)\n",
    "predict"
   ]
  },
  {
   "cell_type": "code",
   "execution_count": 35,
   "id": "f3291fe9",
   "metadata": {},
   "outputs": [
    {
     "name": "stdout",
     "output_type": "stream",
     "text": [
      "RSS value = 22.649364195394135\n"
     ]
    }
   ],
   "source": [
    "#compute RSS(Regression sum of squre)\n",
    "sum = 0.0\n",
    "for i in range(len(y_test)):\n",
    "    sum = sum + ((y_test[i] - predict[i]) * (y_test[i] - predict[i]))\n",
    "\n",
    "RSS = sum    \n",
    "#or -> RSS = np.sum((y_test - predict) * (y_test - predict))\n",
    "\n",
    "print(\"RSS value =\",RSS)\n"
   ]
  },
  {
   "cell_type": "code",
   "execution_count": 36,
   "id": "2befd862",
   "metadata": {},
   "outputs": [
    {
     "name": "stdout",
     "output_type": "stream",
     "text": [
      "TSS value = 46.9391304347826\n"
     ]
    }
   ],
   "source": [
    "#computing TSS (Total sum of squre)\n",
    "y_mean =np.mean(y_test)\n",
    "TSS =np.sum((y_test - y_mean) * (y_test - y_mean))\n",
    "print(\"TSS value =\",TSS)"
   ]
  },
  {
   "cell_type": "code",
   "execution_count": 37,
   "id": "c375eefd",
   "metadata": {},
   "outputs": [
    {
     "name": "stdout",
     "output_type": "stream",
     "text": [
      "R-sq value = 0.5174737157335446\n"
     ]
    }
   ],
   "source": [
    "#computing r-squred value\n",
    "R_SQ = 1- (RSS/TSS)\n",
    "\n",
    "print(\"R-sq value =\",R_SQ)"
   ]
  },
  {
   "cell_type": "code",
   "execution_count": null,
   "id": "f6221a5e",
   "metadata": {},
   "outputs": [],
   "source": []
  }
 ],
 "metadata": {
  "kernelspec": {
   "display_name": "Python 3 (ipykernel)",
   "language": "python",
   "name": "python3"
  },
  "language_info": {
   "codemirror_mode": {
    "name": "ipython",
    "version": 3
   },
   "file_extension": ".py",
   "mimetype": "text/x-python",
   "name": "python",
   "nbconvert_exporter": "python",
   "pygments_lexer": "ipython3",
   "version": "3.9.13"
  }
 },
 "nbformat": 4,
 "nbformat_minor": 5
}
